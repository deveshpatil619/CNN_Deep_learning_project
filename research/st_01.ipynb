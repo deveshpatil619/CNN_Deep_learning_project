{
 "cells": [
  {
   "cell_type": "code",
   "execution_count": 1,
   "metadata": {},
   "outputs": [],
   "source": [
    "from collections import namedtuple\n",
    "import os\n",
    "os.chdir(\"../\")  ## changing the directory to root folder"
   ]
  },
  {
   "cell_type": "code",
   "execution_count": 2,
   "metadata": {},
   "outputs": [
    {
     "data": {
      "text/plain": [
       "'f:\\\\Machine_learning-End to end projects\\\\CNN_Deep_learning_project'"
      ]
     },
     "execution_count": 2,
     "metadata": {},
     "output_type": "execute_result"
    }
   ],
   "source": [
    "os.getcwd()"
   ]
  },
  {
   "cell_type": "code",
   "execution_count": 7,
   "metadata": {},
   "outputs": [],
   "source": [
    "DataIngestionConfig = namedtuple(\"DataIngestionConfig\",[\n",
    "    \"root_dir\",\n",
    "    \"source_URL\",\n",
    "    \"local_data_file\",\n",
    "    \"unzip_dir\"\n",
    "])"
   ]
  },
  {
   "cell_type": "code",
   "execution_count": 10,
   "metadata": {},
   "outputs": [],
   "source": [
    "from dataclasses import dataclass  #This will help us create same structure as above namedtuple\n",
    "from pathlib import Path\n",
    "\n",
    "\n",
    "@dataclass(frozen=True)  ## \n",
    "class DataIngestionConfig:\n",
    "    root_dir: Path   ## here type will be path\n",
    "    source_URL: str     ## here type will be \n",
    "    local_data_file: Path\n",
    "    unzip_dir: Path"
   ]
  },
  {
   "cell_type": "code",
   "execution_count": 11,
   "metadata": {},
   "outputs": [],
   "source": [
    "from DeepClassifier.constants import *\n",
    "from DeepClassifier.utils import read_yaml,create_directories"
   ]
  },
  {
   "cell_type": "code",
   "execution_count": 12,
   "metadata": {},
   "outputs": [],
   "source": [
    "from distutils.command.config import config\n",
    "\n",
    "\n",
    "class ConfigurationManager:\n",
    "    def __init__(self,\n",
    "    config_filepath = CONFIG_FILE_PATH,\n",
    "    params_filepath = PARAMS_FILE_PATH\n",
    "    ):\n",
    "        self.config = read_yaml(config_filepath)\n",
    "        self.params = read_yaml(config_filepath)\n",
    "        create_directories([self.config.artifacts_root])\n",
    "\n",
    "    def get_data_ingestion_config(self) -> DataIngestionConfig:\n",
    "        config = self.config.data_ingestion \n",
    "\n",
    "        create_directories([config.root_dir])\n",
    "\n",
    "        data_ingestion_config = DataIngestionConfig(\n",
    "            root_dir= config.root_dir,\n",
    "            source_URL=config.source_URL,\n",
    "            local_data_file= config.local_data_file,\n",
    "            unzip_dir=config.unzip_dir\n",
    "        )\n",
    "        return data_ingestion_config\n",
    "\n",
    "        "
   ]
  },
  {
   "cell_type": "code",
   "execution_count": 13,
   "metadata": {},
   "outputs": [],
   "source": [
    "import os\n",
    "import urllib.request as request   ## for downloading the data its the kibrary\n",
    "from zipfile import ZipFile         ## for zipping  and unzipping the file data\n",
    "\n",
    "class DataIngestion:\n",
    "    def __init__(self, config: DataIngestionConfig):\n",
    "        self.config = config\n",
    "\n",
    "    def download_file(self):\n",
    "        if not os.path.exists(self.config.local_data_file):  ## To check if file is present or not\n",
    "            filename, headers = request.urlretrieve(        \n",
    "                url = self.config.source_URL,\n",
    "                filename = self.config.local_data_file\n",
    "            )\n",
    "\n",
    "    def _get_updated_list_of_files(self, list_of_files):  ## To get the list of files that ends with extension .jpg and inages of cat and dog\n",
    "        return [f for f in list_of_files if f.endswith(\".jpg\") and (\"Cat\" in f or \"Dog\" in f)]\n",
    "\n",
    "    def _preprocess(self, zf: ZipFile, f: str, working_dir: str):\n",
    "        target_filepath = os.path.join(working_dir, f)  \n",
    "        if not os.path.exists(target_filepath):\n",
    "            zf.extract(f, working_dir)\n",
    "        \n",
    "        if os.path.getsize(target_filepath) == 0:  ## To check if the file is having the size 0\n",
    "            os.remove(target_filepath)\n",
    "\n",
    "    def unzip_and_clean(self):    ## To unzip the file that we want to open\n",
    "        with ZipFile(file=self.config.local_data_file, mode=\"r\") as zf:   ##zf is zip file alias\n",
    "            list_of_files = zf.namelist()    ## To get name list of files\n",
    "            updated_list_of_files = self._get_updated_list_of_files(list_of_files)  ## \n",
    "            for f in updated_list_of_files:\n",
    "                self._preprocess(zf, f, self.config.unzip_dir)    ## f is the pointer to updated_list_of_files\n",
    "                                                                ##\n",
    "                                                                                "
   ]
  },
  {
   "cell_type": "code",
   "execution_count": 14,
   "metadata": {},
   "outputs": [
    {
     "name": "stdout",
     "output_type": "stream",
     "text": [
      "[2022-09-18 11:11:35,446: INFO: common]: yaml file: configs\\config.yaml loaded successfully\n",
      "[2022-09-18 11:11:35,605: INFO: common]: yaml file: configs\\config.yaml loaded successfully\n",
      "[2022-09-18 11:11:35,608: INFO: common]: created directory at: artifacts\n",
      "[2022-09-18 11:11:35,610: INFO: common]: created directory at: artifacts/data_ingestion\n"
     ]
    }
   ],
   "source": [
    "try:\n",
    "    config = ConfigurationManager()\n",
    "    data_ingestion_config = config.get_data_ingestion_config()\n",
    "    data_ingestion = DataIngestion(config=data_ingestion_config)\n",
    "    data_ingestion.download_file()\n",
    "    data_ingestion.unzip_and_clean()\n",
    "except Exception as e:\n",
    "    raise e"
   ]
  },
  {
   "cell_type": "code",
   "execution_count": null,
   "metadata": {},
   "outputs": [],
   "source": []
  },
  {
   "cell_type": "code",
   "execution_count": null,
   "metadata": {},
   "outputs": [],
   "source": []
  },
  {
   "cell_type": "code",
   "execution_count": null,
   "metadata": {},
   "outputs": [],
   "source": []
  },
  {
   "cell_type": "code",
   "execution_count": null,
   "metadata": {},
   "outputs": [],
   "source": []
  },
  {
   "cell_type": "code",
   "execution_count": null,
   "metadata": {},
   "outputs": [],
   "source": []
  },
  {
   "cell_type": "code",
   "execution_count": null,
   "metadata": {},
   "outputs": [],
   "source": []
  }
 ],
 "metadata": {
  "kernelspec": {
   "display_name": "Python 3.10.4 ('Test')",
   "language": "python",
   "name": "python3"
  },
  "language_info": {
   "codemirror_mode": {
    "name": "ipython",
    "version": 3
   },
   "file_extension": ".py",
   "mimetype": "text/x-python",
   "name": "python",
   "nbconvert_exporter": "python",
   "pygments_lexer": "ipython3",
   "version": "3.10.4"
  },
  "orig_nbformat": 4,
  "vscode": {
   "interpreter": {
    "hash": "faf5d6debc2d1b1b7a99fcc40d73053418f09cde4741a7baa613e6160f4cb338"
   }
  }
 },
 "nbformat": 4,
 "nbformat_minor": 2
}
